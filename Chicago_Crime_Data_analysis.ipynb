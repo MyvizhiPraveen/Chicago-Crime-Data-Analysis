{
 "cells": [
  {
   "cell_type": "markdown",
   "id": "f28eeade",
   "metadata": {},
   "source": [
    "### <font color = darkred> Chicago crime level 2 analysis"
   ]
  },
  {
   "cell_type": "code",
   "execution_count": 1,
   "id": "21545948",
   "metadata": {},
   "outputs": [],
   "source": [
    "import pandas as pd\n",
    "import matplotlib.pyplot as plt"
   ]
  },
  {
   "cell_type": "code",
   "execution_count": 2,
   "id": "7cf91b87",
   "metadata": {},
   "outputs": [],
   "source": [
    "dataset = pd.read_csv(r\"C:\\Users\\nklmy\\Downloads\\Crimes_-_2001_to_Present.csv\")"
   ]
  },
  {
   "cell_type": "code",
   "execution_count": 3,
   "id": "b14f04fa",
   "metadata": {},
   "outputs": [
    {
     "data": {
      "text/html": [
       "<div>\n",
       "<style scoped>\n",
       "    .dataframe tbody tr th:only-of-type {\n",
       "        vertical-align: middle;\n",
       "    }\n",
       "\n",
       "    .dataframe tbody tr th {\n",
       "        vertical-align: top;\n",
       "    }\n",
       "\n",
       "    .dataframe thead th {\n",
       "        text-align: right;\n",
       "    }\n",
       "</style>\n",
       "<table border=\"1\" class=\"dataframe\">\n",
       "  <thead>\n",
       "    <tr style=\"text-align: right;\">\n",
       "      <th></th>\n",
       "      <th>ID</th>\n",
       "      <th>Case Number</th>\n",
       "      <th>Date</th>\n",
       "      <th>Block</th>\n",
       "      <th>IUCR</th>\n",
       "      <th>Primary Type</th>\n",
       "      <th>Description</th>\n",
       "      <th>Location Description</th>\n",
       "      <th>Arrest</th>\n",
       "      <th>Domestic</th>\n",
       "      <th>...</th>\n",
       "      <th>Ward</th>\n",
       "      <th>Community Area</th>\n",
       "      <th>FBI Code</th>\n",
       "      <th>X Coordinate</th>\n",
       "      <th>Y Coordinate</th>\n",
       "      <th>Year</th>\n",
       "      <th>Updated On</th>\n",
       "      <th>Latitude</th>\n",
       "      <th>Longitude</th>\n",
       "      <th>Location</th>\n",
       "    </tr>\n",
       "  </thead>\n",
       "  <tbody>\n",
       "    <tr>\n",
       "      <th>0</th>\n",
       "      <td>11037294</td>\n",
       "      <td>JA371270</td>\n",
       "      <td>03/18/2015 12:00:00 PM</td>\n",
       "      <td>0000X W WACKER DR</td>\n",
       "      <td>1153</td>\n",
       "      <td>DECEPTIVE PRACTICE</td>\n",
       "      <td>FINANCIAL IDENTITY THEFT OVER $ 300</td>\n",
       "      <td>BANK</td>\n",
       "      <td>False</td>\n",
       "      <td>False</td>\n",
       "      <td>...</td>\n",
       "      <td>42.0</td>\n",
       "      <td>32.0</td>\n",
       "      <td>11</td>\n",
       "      <td>NaN</td>\n",
       "      <td>NaN</td>\n",
       "      <td>2015</td>\n",
       "      <td>08/01/2017 03:52:26 PM</td>\n",
       "      <td>NaN</td>\n",
       "      <td>NaN</td>\n",
       "      <td>NaN</td>\n",
       "    </tr>\n",
       "    <tr>\n",
       "      <th>1</th>\n",
       "      <td>11646293</td>\n",
       "      <td>JC213749</td>\n",
       "      <td>12/20/2018 03:00:00 PM</td>\n",
       "      <td>023XX N LOCKWOOD AVE</td>\n",
       "      <td>1154</td>\n",
       "      <td>DECEPTIVE PRACTICE</td>\n",
       "      <td>FINANCIAL IDENTITY THEFT $300 AND UNDER</td>\n",
       "      <td>APARTMENT</td>\n",
       "      <td>False</td>\n",
       "      <td>False</td>\n",
       "      <td>...</td>\n",
       "      <td>36.0</td>\n",
       "      <td>19.0</td>\n",
       "      <td>11</td>\n",
       "      <td>NaN</td>\n",
       "      <td>NaN</td>\n",
       "      <td>2018</td>\n",
       "      <td>04/06/2019 04:04:43 PM</td>\n",
       "      <td>NaN</td>\n",
       "      <td>NaN</td>\n",
       "      <td>NaN</td>\n",
       "    </tr>\n",
       "  </tbody>\n",
       "</table>\n",
       "<p>2 rows × 22 columns</p>\n",
       "</div>"
      ],
      "text/plain": [
       "         ID Case Number                    Date                 Block  IUCR  \\\n",
       "0  11037294    JA371270  03/18/2015 12:00:00 PM     0000X W WACKER DR  1153   \n",
       "1  11646293    JC213749  12/20/2018 03:00:00 PM  023XX N LOCKWOOD AVE  1154   \n",
       "\n",
       "         Primary Type                              Description  \\\n",
       "0  DECEPTIVE PRACTICE      FINANCIAL IDENTITY THEFT OVER $ 300   \n",
       "1  DECEPTIVE PRACTICE  FINANCIAL IDENTITY THEFT $300 AND UNDER   \n",
       "\n",
       "  Location Description  Arrest  Domestic  ...  Ward  Community Area  FBI Code  \\\n",
       "0                 BANK   False     False  ...  42.0            32.0        11   \n",
       "1            APARTMENT   False     False  ...  36.0            19.0        11   \n",
       "\n",
       "   X Coordinate Y Coordinate  Year              Updated On  Latitude  \\\n",
       "0           NaN          NaN  2015  08/01/2017 03:52:26 PM       NaN   \n",
       "1           NaN          NaN  2018  04/06/2019 04:04:43 PM       NaN   \n",
       "\n",
       "  Longitude  Location  \n",
       "0       NaN       NaN  \n",
       "1       NaN       NaN  \n",
       "\n",
       "[2 rows x 22 columns]"
      ]
     },
     "execution_count": 3,
     "metadata": {},
     "output_type": "execute_result"
    }
   ],
   "source": [
    "dataset.head(2)"
   ]
  },
  {
   "cell_type": "code",
   "execution_count": 4,
   "id": "fededdd4",
   "metadata": {},
   "outputs": [
    {
     "name": "stdout",
     "output_type": "stream",
     "text": [
      "<class 'pandas.core.frame.DataFrame'>\n",
      "RangeIndex: 8167406 entries, 0 to 8167405\n",
      "Data columns (total 22 columns):\n",
      " #   Column                Dtype  \n",
      "---  ------                -----  \n",
      " 0   ID                    int64  \n",
      " 1   Case Number           object \n",
      " 2   Date                  object \n",
      " 3   Block                 object \n",
      " 4   IUCR                  object \n",
      " 5   Primary Type          object \n",
      " 6   Description           object \n",
      " 7   Location Description  object \n",
      " 8   Arrest                bool   \n",
      " 9   Domestic              bool   \n",
      " 10  Beat                  int64  \n",
      " 11  District              float64\n",
      " 12  Ward                  float64\n",
      " 13  Community Area        float64\n",
      " 14  FBI Code              object \n",
      " 15  X Coordinate          float64\n",
      " 16  Y Coordinate          float64\n",
      " 17  Year                  int64  \n",
      " 18  Updated On            object \n",
      " 19  Latitude              float64\n",
      " 20  Longitude             float64\n",
      " 21  Location              object \n",
      "dtypes: bool(2), float64(7), int64(3), object(10)\n",
      "memory usage: 1.2+ GB\n"
     ]
    }
   ],
   "source": [
    "dataset.info()"
   ]
  },
  {
   "cell_type": "code",
   "execution_count": 5,
   "id": "0027afc8",
   "metadata": {},
   "outputs": [
    {
     "data": {
      "text/plain": [
       "ID                           0\n",
       "Case Number                  0\n",
       "Date                         0\n",
       "Block                        0\n",
       "IUCR                         0\n",
       "Primary Type                 0\n",
       "Description                  0\n",
       "Location Description     13599\n",
       "Arrest                       0\n",
       "Domestic                     0\n",
       "Beat                         0\n",
       "District                    47\n",
       "Ward                    614829\n",
       "Community Area          613453\n",
       "FBI Code                     0\n",
       "X Coordinate             89893\n",
       "Y Coordinate             89893\n",
       "Year                         0\n",
       "Updated On                   0\n",
       "Latitude                 89893\n",
       "Longitude                89893\n",
       "Location                 89893\n",
       "dtype: int64"
      ]
     },
     "execution_count": 5,
     "metadata": {},
     "output_type": "execute_result"
    }
   ],
   "source": [
    "dataset.isnull().sum()"
   ]
  },
  {
   "cell_type": "code",
   "execution_count": 6,
   "id": "4a4be3b2",
   "metadata": {},
   "outputs": [],
   "source": [
    "# Task 1: From what date is the oldest data point in the data set?\n",
    "\n",
    "oldest_date = dataset['Date'].min()"
   ]
  },
  {
   "cell_type": "code",
   "execution_count": 7,
   "id": "b2033ac0",
   "metadata": {},
   "outputs": [
    {
     "data": {
      "text/plain": [
       "'01/01/2001 01:00:00 AM'"
      ]
     },
     "execution_count": 7,
     "metadata": {},
     "output_type": "execute_result"
    }
   ],
   "source": [
    "oldest_date"
   ]
  },
  {
   "cell_type": "code",
   "execution_count": 8,
   "id": "41ae59d7",
   "metadata": {},
   "outputs": [
    {
     "data": {
      "text/plain": [
       "str"
      ]
     },
     "execution_count": 8,
     "metadata": {},
     "output_type": "execute_result"
    }
   ],
   "source": [
    "type(oldest_date)"
   ]
  },
  {
   "cell_type": "code",
   "execution_count": 9,
   "id": "bda77ebb",
   "metadata": {},
   "outputs": [
    {
     "name": "stdout",
     "output_type": "stream",
     "text": [
      "Year\n",
      "2001    485924\n",
      "2002    486826\n",
      "2003    475990\n",
      "2004    469433\n",
      "2005    453778\n",
      "2006    448191\n",
      "2007    437095\n",
      "2008    427197\n",
      "2009    392845\n",
      "2010    370541\n",
      "2011    352018\n",
      "2012    336341\n",
      "2013    307569\n",
      "2014    275850\n",
      "2015    264853\n",
      "2016    269917\n",
      "2017    269194\n",
      "2018    269044\n",
      "2019    261506\n",
      "2020    212489\n",
      "2021    209357\n",
      "2022    239542\n",
      "2023    262519\n",
      "2024    189387\n",
      "dtype: int64\n",
      "Year with highest number of crimes is 2002 with 486826 crimes\n"
     ]
    }
   ],
   "source": [
    "# Task 2: which year has the highest number of crimes?\n",
    "\n",
    "crime_counts = dataset.groupby('Year').size()\n",
    "print(crime_counts)\n",
    "year_h_crime= crime_counts.idxmax()\n",
    "total_crime = crime_counts.max()\n",
    "print(f\"\\nYear with highest number of crimes is {year_h_crime} with {total_crime} crimes\")"
   ]
  },
  {
   "cell_type": "code",
   "execution_count": 10,
   "id": "81eff8f2",
   "metadata": {},
   "outputs": [
    {
     "name": "stdout",
     "output_type": "stream",
     "text": [
      "2005\n",
      "0.3105659595661315\n"
     ]
    },
    {
     "data": {
      "text/html": [
       "<div>\n",
       "<style scoped>\n",
       "    .dataframe tbody tr th:only-of-type {\n",
       "        vertical-align: middle;\n",
       "    }\n",
       "\n",
       "    .dataframe tbody tr th {\n",
       "        vertical-align: top;\n",
       "    }\n",
       "\n",
       "    .dataframe thead th {\n",
       "        text-align: right;\n",
       "    }\n",
       "</style>\n",
       "<table border=\"1\" class=\"dataframe\">\n",
       "  <thead>\n",
       "    <tr style=\"text-align: right;\">\n",
       "      <th></th>\n",
       "      <th>ID</th>\n",
       "      <th>Case Number</th>\n",
       "      <th>Date</th>\n",
       "      <th>Block</th>\n",
       "      <th>IUCR</th>\n",
       "      <th>Primary Type</th>\n",
       "      <th>Description</th>\n",
       "      <th>Location Description</th>\n",
       "      <th>Arrest</th>\n",
       "      <th>Domestic</th>\n",
       "      <th>...</th>\n",
       "      <th>Ward</th>\n",
       "      <th>Community Area</th>\n",
       "      <th>FBI Code</th>\n",
       "      <th>X Coordinate</th>\n",
       "      <th>Y Coordinate</th>\n",
       "      <th>Year</th>\n",
       "      <th>Updated On</th>\n",
       "      <th>Latitude</th>\n",
       "      <th>Longitude</th>\n",
       "      <th>Location</th>\n",
       "    </tr>\n",
       "  </thead>\n",
       "  <tbody>\n",
       "    <tr>\n",
       "      <th>0</th>\n",
       "      <td>11037294</td>\n",
       "      <td>JA371270</td>\n",
       "      <td>03/18/2015 12:00:00 PM</td>\n",
       "      <td>0000X W WACKER DR</td>\n",
       "      <td>1153</td>\n",
       "      <td>DECEPTIVE PRACTICE</td>\n",
       "      <td>FINANCIAL IDENTITY THEFT OVER $ 300</td>\n",
       "      <td>BANK</td>\n",
       "      <td>False</td>\n",
       "      <td>False</td>\n",
       "      <td>...</td>\n",
       "      <td>42.0</td>\n",
       "      <td>32.0</td>\n",
       "      <td>11</td>\n",
       "      <td>NaN</td>\n",
       "      <td>NaN</td>\n",
       "      <td>2015</td>\n",
       "      <td>08/01/2017 03:52:26 PM</td>\n",
       "      <td>NaN</td>\n",
       "      <td>NaN</td>\n",
       "      <td>NaN</td>\n",
       "    </tr>\n",
       "    <tr>\n",
       "      <th>1</th>\n",
       "      <td>11646293</td>\n",
       "      <td>JC213749</td>\n",
       "      <td>12/20/2018 03:00:00 PM</td>\n",
       "      <td>023XX N LOCKWOOD AVE</td>\n",
       "      <td>1154</td>\n",
       "      <td>DECEPTIVE PRACTICE</td>\n",
       "      <td>FINANCIAL IDENTITY THEFT $300 AND UNDER</td>\n",
       "      <td>APARTMENT</td>\n",
       "      <td>False</td>\n",
       "      <td>False</td>\n",
       "      <td>...</td>\n",
       "      <td>36.0</td>\n",
       "      <td>19.0</td>\n",
       "      <td>11</td>\n",
       "      <td>NaN</td>\n",
       "      <td>NaN</td>\n",
       "      <td>2018</td>\n",
       "      <td>04/06/2019 04:04:43 PM</td>\n",
       "      <td>NaN</td>\n",
       "      <td>NaN</td>\n",
       "      <td>NaN</td>\n",
       "    </tr>\n",
       "    <tr>\n",
       "      <th>2</th>\n",
       "      <td>11645836</td>\n",
       "      <td>JC212333</td>\n",
       "      <td>05/01/2016 12:25:00 AM</td>\n",
       "      <td>055XX S ROCKWELL ST</td>\n",
       "      <td>1153</td>\n",
       "      <td>DECEPTIVE PRACTICE</td>\n",
       "      <td>FINANCIAL IDENTITY THEFT OVER $ 300</td>\n",
       "      <td>NaN</td>\n",
       "      <td>False</td>\n",
       "      <td>False</td>\n",
       "      <td>...</td>\n",
       "      <td>15.0</td>\n",
       "      <td>63.0</td>\n",
       "      <td>11</td>\n",
       "      <td>NaN</td>\n",
       "      <td>NaN</td>\n",
       "      <td>2016</td>\n",
       "      <td>04/06/2019 04:04:43 PM</td>\n",
       "      <td>NaN</td>\n",
       "      <td>NaN</td>\n",
       "      <td>NaN</td>\n",
       "    </tr>\n",
       "    <tr>\n",
       "      <th>3</th>\n",
       "      <td>11645959</td>\n",
       "      <td>JC211511</td>\n",
       "      <td>12/20/2018 04:00:00 PM</td>\n",
       "      <td>045XX N ALBANY AVE</td>\n",
       "      <td>2820</td>\n",
       "      <td>OTHER OFFENSE</td>\n",
       "      <td>TELEPHONE THREAT</td>\n",
       "      <td>RESIDENCE</td>\n",
       "      <td>False</td>\n",
       "      <td>False</td>\n",
       "      <td>...</td>\n",
       "      <td>33.0</td>\n",
       "      <td>14.0</td>\n",
       "      <td>08A</td>\n",
       "      <td>NaN</td>\n",
       "      <td>NaN</td>\n",
       "      <td>2018</td>\n",
       "      <td>04/06/2019 04:04:43 PM</td>\n",
       "      <td>NaN</td>\n",
       "      <td>NaN</td>\n",
       "      <td>NaN</td>\n",
       "    </tr>\n",
       "    <tr>\n",
       "      <th>4</th>\n",
       "      <td>11645601</td>\n",
       "      <td>JC212935</td>\n",
       "      <td>06/01/2014 12:01:00 AM</td>\n",
       "      <td>087XX S SANGAMON ST</td>\n",
       "      <td>1153</td>\n",
       "      <td>DECEPTIVE PRACTICE</td>\n",
       "      <td>FINANCIAL IDENTITY THEFT OVER $ 300</td>\n",
       "      <td>RESIDENCE</td>\n",
       "      <td>False</td>\n",
       "      <td>False</td>\n",
       "      <td>...</td>\n",
       "      <td>21.0</td>\n",
       "      <td>71.0</td>\n",
       "      <td>11</td>\n",
       "      <td>NaN</td>\n",
       "      <td>NaN</td>\n",
       "      <td>2014</td>\n",
       "      <td>04/06/2019 04:04:43 PM</td>\n",
       "      <td>NaN</td>\n",
       "      <td>NaN</td>\n",
       "      <td>NaN</td>\n",
       "    </tr>\n",
       "  </tbody>\n",
       "</table>\n",
       "<p>5 rows × 22 columns</p>\n",
       "</div>"
      ],
      "text/plain": [
       "         ID Case Number                    Date                 Block  IUCR  \\\n",
       "0  11037294    JA371270  03/18/2015 12:00:00 PM     0000X W WACKER DR  1153   \n",
       "1  11646293    JC213749  12/20/2018 03:00:00 PM  023XX N LOCKWOOD AVE  1154   \n",
       "2  11645836    JC212333  05/01/2016 12:25:00 AM   055XX S ROCKWELL ST  1153   \n",
       "3  11645959    JC211511  12/20/2018 04:00:00 PM    045XX N ALBANY AVE  2820   \n",
       "4  11645601    JC212935  06/01/2014 12:01:00 AM   087XX S SANGAMON ST  1153   \n",
       "\n",
       "         Primary Type                              Description  \\\n",
       "0  DECEPTIVE PRACTICE      FINANCIAL IDENTITY THEFT OVER $ 300   \n",
       "1  DECEPTIVE PRACTICE  FINANCIAL IDENTITY THEFT $300 AND UNDER   \n",
       "2  DECEPTIVE PRACTICE      FINANCIAL IDENTITY THEFT OVER $ 300   \n",
       "3       OTHER OFFENSE                         TELEPHONE THREAT   \n",
       "4  DECEPTIVE PRACTICE      FINANCIAL IDENTITY THEFT OVER $ 300   \n",
       "\n",
       "  Location Description  Arrest  Domestic  ...  Ward  Community Area  FBI Code  \\\n",
       "0                 BANK   False     False  ...  42.0            32.0        11   \n",
       "1            APARTMENT   False     False  ...  36.0            19.0        11   \n",
       "2                  NaN   False     False  ...  15.0            63.0        11   \n",
       "3            RESIDENCE   False     False  ...  33.0            14.0       08A   \n",
       "4            RESIDENCE   False     False  ...  21.0            71.0        11   \n",
       "\n",
       "   X Coordinate Y Coordinate  Year              Updated On  Latitude  \\\n",
       "0           NaN          NaN  2015  08/01/2017 03:52:26 PM       NaN   \n",
       "1           NaN          NaN  2018  04/06/2019 04:04:43 PM       NaN   \n",
       "2           NaN          NaN  2016  04/06/2019 04:04:43 PM       NaN   \n",
       "3           NaN          NaN  2018  04/06/2019 04:04:43 PM       NaN   \n",
       "4           NaN          NaN  2014  04/06/2019 04:04:43 PM       NaN   \n",
       "\n",
       "  Longitude  Location  \n",
       "0       NaN       NaN  \n",
       "1       NaN       NaN  \n",
       "2       NaN       NaN  \n",
       "3       NaN       NaN  \n",
       "4       NaN       NaN  \n",
       "\n",
       "[5 rows x 22 columns]"
      ]
     },
     "execution_count": 10,
     "metadata": {},
     "output_type": "execute_result"
    }
   ],
   "source": [
    "#Task 3 Let's define \"Arrest Rate\" as the share of crimes that led to an arrest.\n",
    "\n",
    "#What year had the highest arrest rate? What is the overall trend in number of crimes per year?\n",
    "\n",
    "#find arrest_rate and then calculate total_arrests per year\n",
    "\n",
    "arrest_count = dataset.groupby('Year')['Arrest'].sum()\n",
    "\n",
    "#Calculate total cases per year\n",
    "total_cases = dataset.groupby('Year')['Case Number'].count()\n",
    "\n",
    "#Calculate the arrest rate per year\n",
    "arrest_rate = arrest_count / total_cases\n",
    "\n",
    "#Determine the year with the highest arrest rate\n",
    "year_h_ar_rate = arrest_rate.idxmax()\n",
    "highest_arrest_rate = arrest_rate.max()\n",
    "\n",
    "print(f\"\\nYear with highest arrest rate is {year_h_ar_rate} and the arrest_rate is {highest_arrest_rate}\")\n",
    "\n"
   ]
  },
  {
   "cell_type": "code",
   "execution_count": 11,
   "id": "9488051f",
   "metadata": {},
   "outputs": [
    {
     "data": {
      "image/png": "[encoded data removed]",
      "text/plain": [
       "<Figure size 640x480 with 1 Axes>"
      ]
     },
     "metadata": {},
     "output_type": "display_data"
    }
   ],
   "source": [
    "#plot the number of crimes per year\n",
    "total_cases.plot(kind = 'line', title = 'Total number of cases per year', ylabel = 'Total crimes', xlabel = 'Year')\n",
    "plt.show()\n"
   ]
  },
  {
   "cell_type": "markdown",
   "id": "dfdc141a",
   "metadata": {},
   "source": [
    "#### Downward Trend as the year increases Total crimes decreases until 2021,\n",
    "#### There is a gradual increase in crime rate from 2021 to 2022 due to covid crisis followed by negative trend"
   ]
  },
  {
   "cell_type": "code",
   "execution_count": 12,
   "id": "0f590f0f",
   "metadata": {},
   "outputs": [
    {
     "name": "stdout",
     "output_type": "stream",
     "text": [
      "                    Five Crime  Arrest Count  Arrest rate\n",
      "Primary Type                                             \n",
      "ASSAULT                  18257          2331     0.127677\n",
      "BATTERY                  41515          6919     0.166663\n",
      "CRIMINAL DAMAGE          24877          1179     0.047393\n",
      "DECEPTIVE PRACTICE       18503           387     0.020916\n",
      "THEFT                    41340          2804     0.067828\n",
      "crime with highest crime rate is BATTERY and the rate is 16.67%\n",
      "crime with lowest crime rate is DECEPTIVE PRACTICE and the rate is 2.09%\n"
     ]
    },
    {
     "data": {
      "image/png": "[encoded data removed]",
      "text/plain": [
       "<Figure size 640x480 with 1 Axes>"
      ]
     },
     "metadata": {},
     "output_type": "display_data"
    }
   ],
   "source": [
    "# Task 4\n",
    "\n",
    "# What were the five most common crimes in 2020? Which of those crimes had the highest and lowest arrest rate?\n",
    "\n",
    "#Dataset filtering for the year 2020\n",
    "dataset_2020 = dataset[dataset['Year'] == 2020]\n",
    "crime_count_2020 = dataset_2020.groupby('Primary Type')['Case Number'].size()\n",
    "five_crimes = crime_count_2020.nlargest(5)\n",
    "five_crimes\n",
    "\n",
    "#Top 5 most common crimes\n",
    "\n",
    "top_5_crime_data = dataset_2020[dataset_2020['Primary Type'].isin(five_crimes.index)]\n",
    "\n",
    "#Calculating the number of arrests for each of the top 5 crimes\n",
    "arrest_count = top_5_crime_data.groupby('Primary Type')['Arrest'].sum()\n",
    "\n",
    "arrest_rate = arrest_count/five_crimes\n",
    "\n",
    "result = pd.DataFrame({'Five Crime': five_crimes,'Arrest Count': arrest_count, 'Arrest rate': arrest_rate})\n",
    "\n",
    "h_arr_rate = result['Arrest rate'].max()\n",
    "l_arr_rate = result['Arrest rate'].min()\n",
    "\n",
    "h_arr_rate_index = result[result['Arrest rate'] == h_arr_rate].index[0]\n",
    "l_arr_rate_index = result[result['Arrest rate'] == l_arr_rate].index[0]\n",
    "\n",
    "print(result)\n",
    "\n",
    "\n",
    "print(f\"crime with highest crime rate is {h_arr_rate_index} and the rate is{h_arr_rate : .2%}\")\n",
    "print(f\"crime with lowest crime rate is {l_arr_rate_index} and the rate is{l_arr_rate: .2%}\")\n",
    "five_crimes.plot(kind = 'bar', title = 'Top 5 crimes in 2020')\n",
    "plt.show()"
   ]
  },
  {
   "cell_type": "code",
   "execution_count": 13,
   "id": "234e7357",
   "metadata": {},
   "outputs": [
    {
     "name": "stdout",
     "output_type": "stream",
     "text": [
      "Year\n",
      "2001    141942\n",
      "2002    141578\n",
      "2003    141600\n",
      "2004    144705\n",
      "2005    140928\n",
      "2006    135426\n",
      "2007    131880\n",
      "2008    110026\n",
      "2009    110840\n",
      "2010    100555\n",
      "2011     96299\n",
      "2012     90679\n",
      "2013     86568\n",
      "2014     79658\n",
      "2015     70058\n",
      "2016     53049\n",
      "2017     52666\n",
      "2018     53892\n",
      "2019     56250\n",
      "2020     34153\n",
      "2021     26538\n",
      "2022     28050\n",
      "2023     31733\n",
      "2024     25016\n",
      "Name: Arrest, dtype: int64\n",
      "Year\n",
      "2001    485924\n",
      "2002    486826\n",
      "2003    475990\n",
      "2004    469433\n",
      "2005    453778\n",
      "2006    448191\n",
      "2007    437095\n",
      "2008    427197\n",
      "2009    392845\n",
      "2010    370541\n",
      "2011    352018\n",
      "2012    336341\n",
      "2013    307569\n",
      "2014    275850\n",
      "2015    264853\n",
      "2016    269917\n",
      "2017    269194\n",
      "2018    269044\n",
      "2019    261506\n",
      "2020    212489\n",
      "2021    209357\n",
      "2022    239542\n",
      "2023    262519\n",
      "2024    189387\n",
      "Name: Case Number, dtype: int64\n",
      "\n",
      "Highest number of arrests happened in the year 2004 with arrests count = 144705\n"
     ]
    }
   ],
   "source": [
    "#Task 5\n",
    "#Investigate which year that had the highest number of crimes leading to an arrest.\n",
    "#What year was it, and how many arrests were made during that year?\n",
    "\n",
    "arrest_count = dataset.groupby('Year')['Arrest'].sum()\n",
    "total_cases = dataset.groupby('Year')['Case Number'].count()\n",
    "\n",
    "#year with the highest number of arrests.\n",
    "highest_arrest_count = arrest_count.idxmax()\n",
    "\n",
    "#Determine the  highest arrest rate\n",
    "year_h_arrest = arrest_count.max()\n",
    "\n",
    "print(arrest_count)\n",
    "print(total_cases)\n",
    "\n",
    "print(f\"\\nHighest number of arrests happened in the year {highest_arrest_count} with arrests count = {year_h_arrest}\")\n"
   ]
  },
  {
   "cell_type": "code",
   "execution_count": 14,
   "id": "cd20bfbd",
   "metadata": {},
   "outputs": [
    {
     "data": {
      "image/png": "[encoded data removed]",
      "text/plain": [
       "<Figure size 640x480 with 1 Axes>"
      ]
     },
     "metadata": {},
     "output_type": "display_data"
    },
    {
     "name": "stdout",
     "output_type": "stream",
     "text": [
      "Year\n",
      "2001    0.292107\n",
      "2002    0.290818\n",
      "2003    0.297485\n",
      "2004    0.308255\n",
      "2005    0.310566\n",
      "2006    0.302161\n",
      "2007    0.301719\n",
      "2008    0.257553\n",
      "2009    0.282147\n",
      "2010    0.271373\n",
      "2011    0.273563\n",
      "2012    0.269604\n",
      "2013    0.281459\n",
      "2014    0.288773\n",
      "2015    0.264517\n",
      "2016    0.196538\n",
      "2017    0.195643\n",
      "2018    0.200309\n",
      "2019    0.215100\n",
      "2020    0.160728\n",
      "2021    0.126760\n",
      "2022    0.117098\n",
      "2023    0.120879\n",
      "2024    0.132089\n",
      "dtype: float64\n"
     ]
    }
   ],
   "source": [
    "#Task 6\n",
    "'''How has the arrest rate looked like over time? \n",
    "Plot the trend of the arrest rate.\n",
    "Between which years can you see the biggest change in \"Arrest Rate\"? Can you point at specific reasons to why the Arrest Rate dropped between those years? Comment on your conclusions.\n",
    "\n",
    "Since the data set is constantly updating, disregard the year 2021 and later for the analysis in this question.\n",
    "'''\n",
    "arrest_count = dataset.groupby('Year')['Arrest'].sum()\n",
    "total_cases = dataset.groupby('Year')['Case Number'].count()\n",
    "arrest_rate = arrest_count/total_cases\n",
    "\n",
    "arrest_rate.plot(kind = 'line',title ='Arrest Rate over time',xlabel = 'Year',ylabel = 'Arrest Rate')\n",
    "plt.show()\n",
    "\n",
    "print(arrest_rate)\n"
   ]
  },
  {
   "cell_type": "code",
   "execution_count": 15,
   "id": "ef3006b3",
   "metadata": {},
   "outputs": [
    {
     "name": "stdout",
     "output_type": "stream",
     "text": [
      "\n",
      "In the year 2016, there is a biggest change in the arrest rate of 0.06797834806424205\n"
     ]
    }
   ],
   "source": [
    "#change in arrest_rate\n",
    "\n",
    "arrest_rate_diff = arrest_rate.diff().abs()\n",
    "\n",
    "#year with biggest change in Arrest Rate\n",
    "\n",
    "h_arr_rate_diff = arrest_rate_diff.idxmax()\n",
    "\n",
    "h_arr_rate =arrest_rate_diff.max()\n",
    "\n",
    "print(f\"\\nIn the year {h_arr_rate_diff}, there is a biggest change in the arrest rate of {h_arr_rate}\")"
   ]
  },
  {
   "cell_type": "markdown",
   "id": "af13b9a1",
   "metadata": {},
   "source": [
    "#### Negetive trend as the year increases , arrest rate decreases with a notable decrease between 2016 and 2020. \n",
    "#### It might be due to change in laws, arrest policies, lack of police officers."
   ]
  },
  {
   "cell_type": "code",
   "execution_count": 22,
   "id": "98a0eb05",
   "metadata": {},
   "outputs": [],
   "source": [
    "'''Task 7\n",
    "What was the arrest rate for thefts during 2017 and 2018?\n",
    "How much did the arrest rate decrease between those two years?\n",
    "\n",
    "Perform a t-test to determine if the decrease in arrest rate is significant at a 95% confidence level.'''\n",
    "\n",
    "#A t-test requires two arrays or lists of values for comparison. \n",
    "\n",
    "#convert date column into datetime datatype\n",
    "\n",
    "dataset['Date'] = pd.to_datetime(dataset['Date'])\n",
    "\n",
    "#extract the month from the date column\n",
    "\n",
    "dataset['Month'] = dataset['Date'].dt.month"
   ]
  },
  {
   "cell_type": "code",
   "execution_count": 17,
   "id": "3c6c1a4a",
   "metadata": {},
   "outputs": [
    {
     "name": "stdout",
     "output_type": "stream",
     "text": [
      "(1728401, 23)\n"
     ]
    }
   ],
   "source": [
    "#filtering theft-related data\n",
    "\n",
    "theft_dataset = dataset[dataset['Primary Type'] == 'THEFT']\n",
    "\n",
    "print(theft_dataset.shape) \n"
   ]
  },
  {
   "cell_type": "code",
   "execution_count": 18,
   "id": "523bebd4",
   "metadata": {},
   "outputs": [
    {
     "name": "stdout",
     "output_type": "stream",
     "text": [
      "Year  Month\n",
      "2001  1        1426\n",
      "      2        1139\n",
      "      3        1283\n",
      "      4        1227\n",
      "      5        1290\n",
      "               ... \n",
      "2024  5         326\n",
      "      6         301\n",
      "      7         373\n",
      "      8         380\n",
      "      9         258\n",
      "Name: Arrest, Length: 285, dtype: int64\n"
     ]
    }
   ],
   "source": [
    "#calculating arrest count and total cases for theft dataset by Year and Month grouping \n",
    "\n",
    "arrest_count = theft_dataset.groupby(['Year','Month'])['Arrest'].sum()\n",
    "\n",
    "total_cases = theft_dataset.groupby(['Year','Month'])['Case Number'].count()\n",
    "\n",
    "arrest_rate = arrest_count/total_cases\n",
    "\n",
    "print(arrest_count)\n"
   ]
  },
  {
   "cell_type": "code",
   "execution_count": 19,
   "id": "20708359",
   "metadata": {},
   "outputs": [
    {
     "name": "stdout",
     "output_type": "stream",
     "text": [
      "Month\n",
      "1     0.107121\n",
      "2     0.112096\n",
      "3     0.102644\n",
      "4     0.112222\n",
      "5     0.102848\n",
      "6     0.099603\n",
      "7     0.095551\n",
      "8     0.087407\n",
      "9     0.098969\n",
      "10    0.091718\n",
      "11    0.094928\n",
      "12    0.109711\n",
      "dtype: float64\n",
      "Month\n",
      "1     0.103171\n",
      "2     0.122821\n",
      "3     0.111345\n",
      "4     0.105621\n",
      "5     0.094109\n",
      "6     0.090774\n",
      "7     0.091115\n",
      "8     0.084992\n",
      "9     0.090391\n",
      "10    0.091182\n",
      "11    0.099768\n",
      "12    0.095205\n",
      "dtype: float64\n",
      "-0.002860328280831312\n",
      "<class 'pandas.core.series.Series'>\n",
      "<class 'pandas.core.series.Series'>\n"
     ]
    }
   ],
   "source": [
    "#arrest rate for thefts in 2017 and 2018\n",
    "\n",
    "arr_rate_2017 = arrest_rate.loc[2017]\n",
    "arr_rate_2018 = arrest_rate.loc[2018]\n",
    "\n",
    "print(arr_rate_2017)\n",
    "print(arr_rate_2018)\n",
    "\n",
    "diff = arr_rate_2018.mean() - arr_rate_2017.mean()\n",
    "\n",
    "print(diff)\n",
    "print(type(arrest_rate))\n",
    "\n",
    "print(type(arr_rate_2017))\n"
   ]
  },
  {
   "cell_type": "code",
   "execution_count": 20,
   "id": "951f7f5f",
   "metadata": {},
   "outputs": [
    {
     "name": "stdout",
     "output_type": "stream",
     "text": [
      "0.7370472237493668 0.46888175954980227\n",
      "The difference in arrest rates between 2017 and 2018 is not statistically significant.\n"
     ]
    }
   ],
   "source": [
    "# A t-test will determine if this decrease in 2018 arrest rate is due to chance or reflects a real trend.\n",
    "\n",
    "from scipy import stats\n",
    "\n",
    "# Perform t-test to check if the difference between 2017 and 2018 is statistically significant\n",
    "\n",
    "t_stat, p_value = stats.ttest_ind(arr_rate_2017, arr_rate_2018)\n",
    "\n",
    "print(t_stat, p_value)\n",
    "\n",
    "# Check significance at 95% confidence level\n",
    "\n",
    "if p_value < 0.05:\n",
    "    print(\"The difference in arrest rates between 2017 and 2018 is statistically significant.\")\n",
    "else:\n",
    "    print(\"The difference in arrest rates between 2017 and 2018 is not statistically significant.\")\n"
   ]
  }
 ],
 "metadata": {
  "kernelspec": {
   "display_name": "Python 3 (ipykernel)",
   "language": "python",
   "name": "python3"
  },
  "language_info": {
   "codemirror_mode": {
    "name": "ipython",
    "version": 3
   },
   "file_extension": ".py",
   "mimetype": "text/x-python",
   "name": "python",
   "nbconvert_exporter": "python",
   "pygments_lexer": "ipython3",
   "version": "3.11.1"
  }
 },
 "nbformat": 4,
 "nbformat_minor": 5
}
